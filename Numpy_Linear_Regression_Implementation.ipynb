{
  "nbformat": 4,
  "nbformat_minor": 0,
  "metadata": {
    "colab": {
      "name": "Numpy Linear Regression Implementation.ipynb",
      "provenance": [],
      "collapsed_sections": [],
      "authorship_tag": "ABX9TyP6VSoS2/Rhz9R9ccZLcQCJ",
      "include_colab_link": true
    },
    "kernelspec": {
      "name": "python3",
      "display_name": "Python 3"
    }
  },
  "cells": [
    {
      "cell_type": "markdown",
      "metadata": {
        "id": "view-in-github",
        "colab_type": "text"
      },
      "source": [
        "<a href=\"https://colab.research.google.com/github/Aniket1313/Learning-Tensorflow-2.0/blob/master/Numpy_Linear_Regression_Implementation.ipynb\" target=\"_parent\"><img src=\"https://colab.research.google.com/assets/colab-badge.svg\" alt=\"Open In Colab\"/></a>"
      ]
    },
    {
      "cell_type": "code",
      "metadata": {
        "id": "FwHYS-etkwby",
        "colab_type": "code",
        "colab": {}
      },
      "source": [
        ""
      ],
      "execution_count": 0,
      "outputs": []
    },
    {
      "cell_type": "markdown",
      "metadata": {
        "id": "HGSSOwYOlBc5",
        "colab_type": "text"
      },
      "source": [
        "14 th April 2020\n",
        "\n",
        "Simple Linear Regression(Two Variables X and Z) .Minimal Example."
      ]
    },
    {
      "cell_type": "code",
      "metadata": {
        "id": "r7zQ0MdplNh9",
        "colab_type": "code",
        "colab": {}
      },
      "source": [
        "import numpy as np\n",
        "import matplotlib.pyplot as plt\n",
        "from mpl_toolkits.mplot3d import Axes3D  #3D Graphs"
      ],
      "execution_count": 0,
      "outputs": []
    },
    {
      "cell_type": "markdown",
      "metadata": {
        "id": "h93ig7EalzxB",
        "colab_type": "text"
      },
      "source": [
        "**Generate random input data to train on**"
      ]
    },
    {
      "cell_type": "code",
      "metadata": {
        "id": "acaazQ59lT3N",
        "colab_type": "code",
        "outputId": "2c1cb94a-b18f-4c39-b3b8-86f93140d1fb",
        "colab": {
          "base_uri": "https://localhost:8080/",
          "height": 34
        }
      },
      "source": [
        "observations=1000\n",
        "\n",
        "##xs and zs are 1000x2 matrix\n",
        "\n",
        "xs=np.random.uniform(low=-10,high=10,size=(observations,1))\n",
        "zs=np.random.uniform(low=-10,high=10,size=(observations,1))\n",
        "\n",
        "inputs = np.column_stack((xs,zs))\n",
        "\n",
        "print(inputs.shape)"
      ],
      "execution_count": 2,
      "outputs": [
        {
          "output_type": "stream",
          "text": [
            "(1000, 2)\n"
          ],
          "name": "stdout"
        }
      ]
    },
    {
      "cell_type": "markdown",
      "metadata": {
        "id": "mM-7dalPl1cU",
        "colab_type": "text"
      },
      "source": [
        "**Create Targets we will aim at**"
      ]
    },
    {
      "cell_type": "code",
      "metadata": {
        "id": "2djYXOqKl0hB",
        "colab_type": "code",
        "outputId": "2ee6539c-f66d-4859-b582-a00fa2db98bd",
        "colab": {
          "base_uri": "https://localhost:8080/",
          "height": 34
        }
      },
      "source": [
        "## Example targets =f(x,z)=2x-3z+5 + noise(real data always contains noise)\n",
        "##We add noise to make data random\n",
        "\n",
        "noise = np.random.uniform(-1,1,(observations,1))\n",
        "targets= 2*xs-3*zs + 5 + noise\n",
        "print(targets.shape)\n",
        "\n"
      ],
      "execution_count": 3,
      "outputs": [
        {
          "output_type": "stream",
          "text": [
            "(1000, 1)\n"
          ],
          "name": "stdout"
        }
      ]
    },
    {
      "cell_type": "markdown",
      "metadata": {
        "id": "LMvworZ-l2Vj",
        "colab_type": "text"
      },
      "source": [
        "**Plot the training data**\n",
        "\n",
        "In order to see that there is a strong trend that our model should learn to reproduce."
      ]
    },
    {
      "cell_type": "markdown",
      "metadata": {
        "id": "i6286VwCmLCt",
        "colab_type": "text"
      },
      "source": [
        "---\n"
      ]
    },
    {
      "cell_type": "code",
      "metadata": {
        "id": "_uFFkSkIl0jk",
        "colab_type": "code",
        "outputId": "c5a778a6-56bb-406a-fc75-663e4b7f5f35",
        "colab": {
          "base_uri": "https://localhost:8080/",
          "height": 265
        }
      },
      "source": [
        "#In order to use the 3D plot,the objects should have a certain shape,so we reshape the targets\n",
        "#The proper method to use is reshape \n",
        "targets = targets.reshape(observations,)\n",
        "\n",
        "#Declare figure\n",
        "fig=plt.figure()\n",
        "\n",
        "#A method allowing us to create the 3D plot\n",
        "ax = fig.add_subplot(111,projection='3d')\n",
        "\n",
        "#Choose the axes\n",
        "ax.plot(xs,zs,targets)\n",
        "\n",
        "#Set labels\n",
        "\n",
        "ax.set_xlabel('xs')\n",
        "ax.set_ylabel('zs')\n",
        "ax.set_zlabel('Targets')\n",
        "\n",
        "##You can fiddle with the azim parameter to plot the data from different angles.\n",
        "##Just change the value of azim=0,100,200\n",
        "ax.view_init(azim=100)\n",
        "print('This fig shows Linear Relation in 3D is a plane')\n",
        "plt.show()\n",
        "targets =targets.reshape(observations, 1)"
      ],
      "execution_count": 4,
      "outputs": [
        {
          "output_type": "stream",
          "text": [
            "This fig shows Linear Relation in 3D is a plane\n"
          ],
          "name": "stdout"
        },
        {
          "output_type": "display_data",
          "data": {
            "image/png": "[encoded data removed]",
            "text/plain": [
              "<Figure size 432x288 with 1 Axes>"
            ]
          },
          "metadata": {
            "tags": [],
            "needs_background": "light"
          }
        }
      ]
    },
    {
      "cell_type": "markdown",
      "metadata": {
        "id": "ofzWXOkpl46D",
        "colab_type": "text"
      },
      "source": [
        "**bold text**"
      ]
    },
    {
      "cell_type": "code",
      "metadata": {
        "id": "qwL_twApl0mO",
        "colab_type": "code",
        "colab": {}
      },
      "source": [
        ""
      ],
      "execution_count": 0,
      "outputs": []
    },
    {
      "cell_type": "markdown",
      "metadata": {
        "id": "e9L2cQM9l3el",
        "colab_type": "text"
      },
      "source": [
        "Initialize variables"
      ]
    },
    {
      "cell_type": "code",
      "metadata": {
        "id": "o9kFjrIOl0oR",
        "colab_type": "code",
        "outputId": "0fa6efbb-a1d7-4309-9e7c-1d95e7eadb31",
        "colab": {
          "base_uri": "https://localhost:8080/",
          "height": 68
        }
      },
      "source": [
        "init_range =0.1\n",
        "weights =np.random.uniform(-init_range,init_range,size=(2,1))\n",
        "\n",
        "biases = np.random.uniform(-init_range,init_range,size=1)\n",
        "\n",
        "print(weights)\n",
        "print(biases)"
      ],
      "execution_count": 5,
      "outputs": [
        {
          "output_type": "stream",
          "text": [
            "[[ 0.06926918]\n",
            " [-0.03894814]]\n",
            "[-0.01189486]\n"
          ],
          "name": "stdout"
        }
      ]
    },
    {
      "cell_type": "code",
      "metadata": {
        "id": "rEjo8LAo6u5J",
        "colab_type": "code",
        "colab": {}
      },
      "source": [
        ""
      ],
      "execution_count": 0,
      "outputs": []
    },
    {
      "cell_type": "markdown",
      "metadata": {
        "id": "O_dCVveR6qeC",
        "colab_type": "text"
      },
      "source": [
        "**Set a learning rate**"
      ]
    },
    {
      "cell_type": "code",
      "metadata": {
        "id": "iFIEuYey6qlb",
        "colab_type": "code",
        "colab": {}
      },
      "source": [
        "learning_rate=0.02"
      ],
      "execution_count": 0,
      "outputs": []
    },
    {
      "cell_type": "code",
      "metadata": {
        "id": "J6Eyge8q6qHi",
        "colab_type": "code",
        "colab": {}
      },
      "source": [
        ""
      ],
      "execution_count": 0,
      "outputs": []
    },
    {
      "cell_type": "markdown",
      "metadata": {
        "id": "inuWVGWD6qrl",
        "colab_type": "text"
      },
      "source": [
        "**Train the model**"
      ]
    },
    {
      "cell_type": "code",
      "metadata": {
        "id": "ngz_hrOA6qxh",
        "colab_type": "code",
        "outputId": "8d9103b9-859f-46fe-b8d0-242e755edabc",
        "colab": {
          "base_uri": "https://localhost:8080/",
          "height": 1000
        }
      },
      "source": [
        "for i in range(100):\n",
        "  outputs = np.dot(inputs,weights) + biases\n",
        "  #dimensions : o/p=1000x1 i/p=1000x2 wts=2x1 biases=scalar\n",
        "  deltas =outputs-targets\n",
        "  \n",
        "  ##L2-norm loss\n",
        "  #instead of updating learning rate we update loss\n",
        "\n",
        "  loss=np.sum(deltas** 2)/2/ observations\n",
        "\n",
        "  print(loss) \n",
        "\n",
        "  deltas_scaled=deltas /observations\n",
        "\n",
        "  weights =weights - learning_rate * np.dot(inputs.T,deltas_scaled)\n",
        "  biases = biases - learning_rate *np.sum(deltas_scaled)"
      ],
      "execution_count": 8,
      "outputs": [
        {
          "output_type": "stream",
          "text": [
            "12.960674109834438\n",
            "12.45394805561351\n",
            "11.967287768925361\n",
            "11.499898270222976\n",
            "11.051016433009053\n",
            "10.61990938768251\n",
            "10.20587328880676\n",
            "9.808232162195822\n",
            "9.426336800887949\n",
            "9.059563705177942\n",
            "8.70731406465853\n",
            "8.369012780574808\n",
            "8.044107526891834\n",
            "7.732067848542063\n",
            "7.432384295380335\n",
            "7.14456759043242\n",
            "6.868147831079221\n",
            "6.602673721872438\n",
            "6.347711837729111\n",
            "6.1028459163021775\n",
            "5.867676178371638\n",
            "5.641818675146875\n",
            "5.424904661414421\n",
            "5.216579993507765\n",
            "5.0165045511163555\n",
            "4.8243516819897145\n",
            "4.639807668630156\n",
            "4.462571216103348\n",
            "4.29235296013054\n",
            "4.128874994659291\n",
            "3.971870418141432\n",
            "3.8210828977774884\n",
            "3.6762662510161053\n",
            "3.5371840436252513\n",
            "3.403609203678946\n",
            "3.275323650829325\n",
            "3.152117940258767\n",
            "3.0337909207307776\n",
            "2.920149406181346\n",
            "2.8110078603146094\n",
            "2.7061880936878624\n",
            "2.6055189727913963\n",
            "2.5088361406481607\n",
            "2.41598174847709\n",
            "2.32680419798203\n",
            "2.241157893845468\n",
            "2.1589030060230137\n",
            "2.0799052414505166\n",
            "2.004035624791117\n",
            "1.9311702878642496\n",
            "1.861190267412835\n",
            "1.793981310878457\n",
            "1.7294336898674583\n",
            "1.6674420210033813\n",
            "1.607905093873273\n",
            "1.5507257057869857\n",
            "1.4958105030796416\n",
            "1.4430698286982055\n",
            "1.392417575823306\n",
            "1.3437710472873383\n",
            "1.29705082055931\n",
            "1.252180618076014\n",
            "1.2090871827078111\n",
            "1.1677001581557187\n",
            "1.127951974084527\n",
            "1.08977773580439\n",
            "1.0531151183208183\n",
            "1.0179042645800644\n",
            "0.9840876877437704\n",
            "0.9516101773333558\n",
            "0.9204187090908784\n",
            "0.8904623584092205\n",
            "0.861692217190273\n",
            "0.8340613139953454\n",
            "0.807524537357465\n",
            "0.7820385621303495\n",
            "0.7575617787538068\n",
            "0.7340542253200719\n",
            "0.7114775223301908\n",
            "0.6897948100339026\n",
            "0.668970688250737\n",
            "0.6489711585740773\n",
            "0.6297635688638147\n",
            "0.6113165599369813\n",
            "0.5936000143693282\n",
            "0.5765850073242481\n",
            "0.560243759328774\n",
            "0.5445495909195521\n",
            "0.5294768790847384\n",
            "0.5150010154307044\n",
            "0.5010983660052584\n",
            "0.4877462327117831\n",
            "0.47492281625128896\n",
            "0.4626071805318923\n",
            "0.45077921848759933\n",
            "0.43941961925059864\n",
            "0.4285098366234623\n",
            "0.41803205879977995\n",
            "0.4079691792837953\n",
            "0.39830476896156564\n"
          ],
          "name": "stdout"
        }
      ]
    },
    {
      "cell_type": "code",
      "metadata": {
        "id": "5umEi5v07h3k",
        "colab_type": "code",
        "colab": {}
      },
      "source": [
        ""
      ],
      "execution_count": 0,
      "outputs": []
    },
    {
      "cell_type": "markdown",
      "metadata": {
        "id": "C6SKEtDG8uR1",
        "colab_type": "text"
      },
      "source": [
        "**Print weights and biases and see if we have worked correctly**"
      ]
    },
    {
      "cell_type": "code",
      "metadata": {
        "id": "M1of34Ee82uJ",
        "colab_type": "code",
        "colab": {
          "base_uri": "https://localhost:8080/",
          "height": 51
        },
        "outputId": "9d25c008-130a-4907-9fd0-cd2a575d6357"
      },
      "source": [
        "print(weights,biases)"
      ],
      "execution_count": 9,
      "outputs": [
        {
          "output_type": "stream",
          "text": [
            "[[ 1.99900515]\n",
            " [-2.9990839 ]] [4.37622778]\n"
          ],
          "name": "stdout"
        }
      ]
    },
    {
      "cell_type": "markdown",
      "metadata": {
        "id": "LbXYYxA9lvZ5",
        "colab_type": "text"
      },
      "source": [
        "##Plot last outputs vs targets"
      ]
    },
    {
      "cell_type": "code",
      "metadata": {
        "id": "KtE-nUQrbogs",
        "colab_type": "code",
        "colab": {
          "base_uri": "https://localhost:8080/",
          "height": 279
        },
        "outputId": "29fc36d1-2631-44d3-a8b0-2d795fb1f38b"
      },
      "source": [
        "plt.plot(outputs,targets)\n",
        "plt.xlabel('outputs')\n",
        "plt.ylabel('targets')\n",
        "plt.show()"
      ],
      "execution_count": 10,
      "outputs": [
        {
          "output_type": "display_data",
          "data": {
            "image/png": "[encoded data removed]",
            "text/plain": [
              "<Figure size 432x288 with 1 Axes>"
            ]
          },
          "metadata": {
            "tags": [],
            "needs_background": "light"
          }
        }
      ]
    },
    {
      "cell_type": "markdown",
      "metadata": {
        "id": "_ac85yTqbpkm",
        "colab_type": "text"
      },
      "source": [
        "####END####"
      ]
    },
    {
      "cell_type": "code",
      "metadata": {
        "id": "sgb1iexNcH67",
        "colab_type": "code",
        "colab": {}
      },
      "source": [
        ""
      ],
      "execution_count": 0,
      "outputs": []
    }
  ]
}