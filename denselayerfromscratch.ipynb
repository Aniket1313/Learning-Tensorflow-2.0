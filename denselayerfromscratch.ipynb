{
  "nbformat": 4,
  "nbformat_minor": 0,
  "metadata": {
    "colab": {
      "name": "denselayerfromscratch.ipynb",
      "provenance": [],
      "authorship_tag": "ABX9TyMEjyLOO9BQM9pHDEngLOYp",
      "include_colab_link": true
    },
    "kernelspec": {
      "name": "python3",
      "display_name": "Python 3"
    }
  },
  "cells": [
    {
      "cell_type": "markdown",
      "metadata": {
        "id": "view-in-github",
        "colab_type": "text"
      },
      "source": [
        "<a href=\"https://colab.research.google.com/github/Aniket1313/Learning-Tensorflow-2.0/blob/master/denselayerfromscratch.ipynb\" target=\"_parent\"><img src=\"https://colab.research.google.com/assets/colab-badge.svg\" alt=\"Open In Colab\"/></a>"
      ]
    },
    {
      "cell_type": "code",
      "metadata": {
        "id": "5t2WZ8L2dKvO",
        "colab_type": "code",
        "colab": {}
      },
      "source": [
        "import tensorflow as tf"
      ],
      "execution_count": 0,
      "outputs": []
    },
    {
      "cell_type": "markdown",
      "metadata": {
        "id": "GquggdlVduXN",
        "colab_type": "text"
      },
      "source": [
        "`# Dense layer from scratch`"
      ]
    },
    {
      "cell_type": "code",
      "metadata": {
        "id": "-hL4FTP6dSl2",
        "colab_type": "code",
        "colab": {}
      },
      "source": [
        "class MyDenseLayer(tf.keras.layers.Layer):\n",
        "  def __init__(self,input_dim,Output_dim):\n",
        "    super(MyDenseLayer,self),__init__()\n",
        "\n",
        "    #inititalize weights and biases\n",
        "    self.W =self.add_weight([input_dim,output_dim])\n",
        "    self.b =self.add_weight([1,output_dim]) \n",
        "\n",
        "  def call(self,inputs):\n",
        "    #Forward propagate the inputs\n",
        "    z=tf.matmul(inputs,self.W)*self.b\n",
        "\n",
        "    #Feed through non-linear activation\n",
        "    output =tf.math.sigmoid(z)\n",
        "\n",
        "    return output"
      ],
      "execution_count": 0,
      "outputs": []
    },
    {
      "cell_type": "code",
      "metadata": {
        "id": "nwu4t2vfdSqu",
        "colab_type": "code",
        "colab": {}
      },
      "source": [
        "#Above class can be Implemented directly in TF as\n",
        "layer =tf.keras.layers.Dense(units=2)"
      ],
      "execution_count": 0,
      "outputs": []
    },
    {
      "cell_type": "code",
      "metadata": {
        "id": "0DsKWExNelD1",
        "colab_type": "code",
        "colab": {}
      },
      "source": [
        "#Multi Output Perceptron\n",
        "# put n= no. of dense layers in tf.keras.layers.Dense(n)\n",
        "\n",
        "model2=tf.keras.Sequential([\n",
        "                           tf.keras.layers.Dense(2),\n",
        "                         \n",
        "])\n"
      ],
      "execution_count": 0,
      "outputs": []
    },
    {
      "cell_type": "code",
      "metadata": {
        "id": "THHXi3BKdSu9",
        "colab_type": "code",
        "colab": {}
      },
      "source": [
        ""
      ],
      "execution_count": 0,
      "outputs": []
    },
    {
      "cell_type": "code",
      "metadata": {
        "id": "FU_QXktIdSz-",
        "colab_type": "code",
        "colab": {}
      },
      "source": [
        ""
      ],
      "execution_count": 0,
      "outputs": []
    },
    {
      "cell_type": "code",
      "metadata": {
        "id": "iB_QUyOzdS4b",
        "colab_type": "code",
        "colab": {}
      },
      "source": [
        ""
      ],
      "execution_count": 0,
      "outputs": []
    },
    {
      "cell_type": "code",
      "metadata": {
        "id": "TGM2mPntdS2h",
        "colab_type": "code",
        "colab": {}
      },
      "source": [
        ""
      ],
      "execution_count": 0,
      "outputs": []
    },
    {
      "cell_type": "code",
      "metadata": {
        "id": "X2pgGFkAdSyQ",
        "colab_type": "code",
        "colab": {}
      },
      "source": [
        ""
      ],
      "execution_count": 0,
      "outputs": []
    },
    {
      "cell_type": "code",
      "metadata": {
        "id": "hNPPE9wtdStT",
        "colab_type": "code",
        "colab": {}
      },
      "source": [
        ""
      ],
      "execution_count": 0,
      "outputs": []
    },
    {
      "cell_type": "code",
      "metadata": {
        "id": "f0glpzAOdSpD",
        "colab_type": "code",
        "colab": {}
      },
      "source": [
        ""
      ],
      "execution_count": 0,
      "outputs": []
    }
  ]
}